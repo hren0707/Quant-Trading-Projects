# Example structure - this would be a .ipynb file
import sys
sys.path.append('..')

from pairs_trading import PairsTradingBacktest
from utils.performance import PerformanceMetrics
from utils.visualization import plot_equity_curve

# Load and prepare data
backtest = PairsTradingBacktest()
tickers = ['AAPL', 'MSFT', 'GOOGL', 'AMZN', 'META', 'NVDA']

# Run backtest
results, metrics = backtest.run_complete_backtest(
    tickers=tickers,
    start_date='2020-01-01', 
    end_date='2023-12-31'
)

# Generate report
print(PerformanceMetrics.generate_report(metrics))

# Create visualizations
plot_equity_curve(results['portfolio_value'])
